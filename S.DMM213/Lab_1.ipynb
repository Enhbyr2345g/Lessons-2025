{
 "cells": [
  {
   "cell_type": "code",
   "execution_count": 1,
   "id": "8e5f6764",
   "metadata": {},
   "outputs": [
    {
     "name": "stdout",
     "output_type": "stream",
     "text": [
      "7.0\n"
     ]
    }
   ],
   "source": [
    "# Bodlogo 1\n",
    "\n",
    "import math\n",
    "myfunc = lambda x: math.pow(x, 2) + 3\n",
    "\n",
    "print(myfunc(2))"
   ]
  },
  {
   "cell_type": "code",
   "execution_count": 2,
   "id": "7f550f0a",
   "metadata": {},
   "outputs": [
    {
     "name": "stdout",
     "output_type": "stream",
     "text": [
      "7.0\n"
     ]
    }
   ],
   "source": [
    "# Bodlogo 2\n",
    "\n",
    "import math\n",
    "\n",
    "def equation(x):\n",
    "    return math.pow(x, 2) + 3\n",
    "\n",
    "print(equation(2)) "
   ]
  },
  {
   "cell_type": "code",
   "execution_count": 51,
   "id": "d17c49a4",
   "metadata": {},
   "outputs": [
    {
     "name": "stdout",
     "output_type": "stream",
     "text": [
      "5.0\n",
      "3.0\n",
      "Error\n",
      "3.0\n"
     ]
    }
   ],
   "source": [
    "# Bodlogo 3\n",
    "\n",
    "def equation(a: int, b: int):\n",
    "    \n",
    "    if b != 0 and a % b == 0:\n",
    "        print(a / b)\n",
    "\n",
    "    elif a != 0 and b % a == 0:\n",
    "        print(b / a)\n",
    "\n",
    "    else:\n",
    "        print(\"Error\")\n",
    "\n",
    "equation(10, 2)\n",
    "equation(3, 9)\n",
    "equation(7.0, 5.0)\n",
    "equation(4.5, 1.5)\n"
   ]
  },
  {
   "cell_type": "code",
   "execution_count": 52,
   "id": "aede7260",
   "metadata": {},
   "outputs": [
    {
     "name": "stdout",
     "output_type": "stream",
     "text": [
      "['Bat', 'Bold', 'Naraa', 'Bolor']\n",
      "['Leymi', 'Bold', 'Naraa', 'Bolor']\n"
     ]
    }
   ],
   "source": [
    "# Bodlogo 4\n",
    "\n",
    "a = [\"Bat\", \"Bold\", \"Naraa\", \"Bolor\"]\n",
    "b = a.copy()\n",
    "\n",
    "b[0] = \"Leymi\"\n",
    "\n",
    "print(a)\n",
    "print(b)"
   ]
  },
  {
   "cell_type": "code",
   "execution_count": 53,
   "id": "9dd936c0",
   "metadata": {},
   "outputs": [
    {
     "name": "stdout",
     "output_type": "stream",
     "text": [
      "0 2 4 6 8 10 12 14 16 18 20 22 24 26 28 30 32 34 36 38 40 42 44 46 48 50 "
     ]
    }
   ],
   "source": [
    "# Bodlogo 5\n",
    "\n",
    "for i in range(0, 51):\n",
    "    if i % 2 == 0:\n",
    "        print(i, end=\" \")\n"
   ]
  },
  {
   "cell_type": "code",
   "execution_count": 54,
   "id": "7b5052d9",
   "metadata": {},
   "outputs": [
    {
     "name": "stdout",
     "output_type": "stream",
     "text": [
      "['2025', '09', '04', '13', '37', '49.717682']\n"
     ]
    }
   ],
   "source": [
    "# Bodlogo 6\n",
    "\n",
    "import datetime\n",
    "\n",
    "now = datetime.datetime.now()\n",
    "\n",
    "TimeList = [\n",
    "    str(now.year),\n",
    "    str(now.month).zfill(2),\n",
    "    str(now.day).zfill(2),\n",
    "    str(now.hour).zfill(2),\n",
    "    str(now.minute).zfill(2),\n",
    "    str(now.second) + \".\" + str(now.microsecond)\n",
    "]\n",
    "print(TimeList)"
   ]
  },
  {
   "cell_type": "code",
   "execution_count": 55,
   "id": "dd48ed50",
   "metadata": {},
   "outputs": [
    {
     "name": "stdout",
     "output_type": "stream",
     "text": [
      "['webjvek', 'ves', 'rse', 'res', 'rvs']\n"
     ]
    }
   ],
   "source": [
    "# Bodlogo 7\n",
    "\n",
    "a = input()\n",
    "b = a.split(\" \")\n",
    "print(b)\n"
   ]
  },
  {
   "cell_type": "code",
   "execution_count": null,
   "id": "62689e2b",
   "metadata": {},
   "outputs": [
    {
     "name": "stdout",
     "output_type": "stream",
     "text": [
      "Hamgiin olon gishuuntei bagiin too:  6\n",
      "-----Add Member-----\n",
      "['Bat', 'Bold', 'Saraa', 'Ganaa', 'Dulam', 'Bataa']\n",
      "['Onon', 'Solongo', 'Bulganaa', 'Leymi', 'Enkhbayar', 'Leymi']\n",
      "['Bat', 'Bold', 'Saraa', 'Ganaa', 'Dulam', 'Anu']\n",
      "['Onon', 'Saran', 'Saikhnaa', 'Zaya', 'Purev', 'Anu']\n",
      "['Solongo', 'Bulganaa', 'Sarnai', 'Erdene', 'Khishgee', 'Anu']\n",
      "-----Sorted-----\n",
      "['Bat', 'Bataa', 'Bold', 'Dulam', 'Ganaa', 'Saraa']\n",
      "['Bulganaa', 'Enkhbayar', 'Leymi', 'Leymi', 'Onon', 'Solongo']\n",
      "['Anu', 'Bat', 'Bold', 'Dulam', 'Ganaa', 'Saraa']\n",
      "['Anu', 'Onon', 'Purev', 'Saikhnaa', 'Saran', 'Zaya']\n",
      "['Anu', 'Bulganaa', 'Erdene', 'Khishgee', 'Sarnai', 'Solongo']\n"
     ]
    }
   ],
   "source": [
    "# Bodlogo 8\n",
    "\n",
    "import random\n",
    "\n",
    "a1 = ['Bat', 'Bold', 'Saraa', 'Ganaa', 'Dulam', 'Bataa']\n",
    "a2 = ['Onon', 'Solongo', 'Bulganaa']\n",
    "a3 = ['Bat', 'Bold', 'Saraa', 'Ganaa', 'Dulam']\n",
    "a4 = ['Onon', 'Saran', 'Saikhnaa', 'Zaya', 'Purev']\n",
    "a5 = ['Solongo', 'Bulganaa', 'Sarnai', 'Erdene', 'Khishgee']\n",
    "\n",
    "a = [a1, a2, a3, a4, a5]\n",
    "b = a[0]\n",
    "for i in a:\n",
    "    if len(i) > len(b):\n",
    "        b = i\n",
    "maxQuant = len(b)\n",
    "print(\"Hamgiin olon gishuuntei bagiin too: \",maxQuant)\n",
    "\n",
    "\n",
    "\n",
    "print(\"-----Add Member-----\")\n",
    "randomMember = [ 'Bolor', 'Enkhbayar', 'Leymi', 'Saraa', 'Temuulen', 'Anu', 'Baatar']\n",
    "for i in a:\n",
    "    if len(i) < maxQuant:\n",
    "        for j in range(maxQuant - len(i)):\n",
    "            i.append(random.choice(randomMember))\n",
    "for i in a:\n",
    "    print(i)\n",
    "\n",
    "\n",
    "\n",
    "print(\"-----Sorted-----\")\n",
    "for i in a:\n",
    "    i.sort()\n",
    "    print(i)\n",
    "    "
   ]
  },
  {
   "cell_type": "code",
   "execution_count": 58,
   "id": "fdc84cae",
   "metadata": {},
   "outputs": [
    {
     "name": "stdout",
     "output_type": "stream",
     "text": [
      "{'Bat': '18', 'Ankhaa': '26', 'Dorj': '16', 'Bold': '35'}\n",
      "-----Name Sorted-----\n",
      "Ankhaa: 26\n",
      "Bat: 18\n",
      "Bold: 35\n",
      "Dorj: 16\n",
      "-----Age Sorted-----\n",
      "Dorj: 16\n",
      "Bat: 18\n",
      "Ankhaa: 26\n",
      "Bold: 35\n"
     ]
    }
   ],
   "source": [
    "\n",
    "anket1 = {'Bat':'18', 'Ankhaa':'26'}\n",
    "anket2 = {'Dorj':'16', 'Bold':'35'}\n",
    "\n",
    "combined = anket1.copy()\n",
    "combined.update(anket2)\n",
    "\n",
    "print(combined)\n",
    "\n",
    "print(\"-----Name Sorted-----\")\n",
    "for key in sorted(combined):\n",
    "    print(f\"{key}: {combined[key]}\")\n",
    "\n",
    "print(\"-----Age Sorted-----\")\n",
    "for key, value in sorted(combined.items(), key=lambda item: int(item[1])):\n",
    "    print(f\"{key}: {value}\")\n"
   ]
  }
 ],
 "metadata": {
  "kernelspec": {
   "display_name": "Python 3",
   "language": "python",
   "name": "python3"
  },
  "language_info": {
   "codemirror_mode": {
    "name": "ipython",
    "version": 3
   },
   "file_extension": ".py",
   "mimetype": "text/x-python",
   "name": "python",
   "nbconvert_exporter": "python",
   "pygments_lexer": "ipython3",
   "version": "3.13.7"
  }
 },
 "nbformat": 4,
 "nbformat_minor": 5
}
